{
 "cells": [
  {
   "cell_type": "code",
   "execution_count": null,
   "metadata": {},
   "outputs": [],
   "source": [
    "import pandas as pd\n",
    "from sklearn.model_selection import train_test_split\n",
    "from sklearn.preprocessing import LabelEncoder\n",
    "from sklearn.impute import SimpleImputer\n"
   ]
  },
  {
   "cell_type": "code",
   "execution_count": null,
   "metadata": {},
   "outputs": [
    {
     "name": "stdout",
     "output_type": "stream",
     "text": [
      "Thông tin dữ liệu ban đầu:\n",
      "<class 'pandas.core.frame.DataFrame'>\n",
      "RangeIndex: 303 entries, 0 to 302\n",
      "Data columns (total 14 columns):\n",
      " #   Column     Non-Null Count  Dtype  \n",
      "---  ------     --------------  -----  \n",
      " 0   Age        303 non-null    int64  \n",
      " 1   Sex        303 non-null    int64  \n",
      " 2   ChestPain  303 non-null    object \n",
      " 3   RestBP     303 non-null    int64  \n",
      " 4   Chol       303 non-null    int64  \n",
      " 5   Fbs        303 non-null    int64  \n",
      " 6   RestECG    303 non-null    int64  \n",
      " 7   MaxHR      303 non-null    int64  \n",
      " 8   ExAng      303 non-null    int64  \n",
      " 9   Oldpeak    303 non-null    float64\n",
      " 10  Slope      303 non-null    int64  \n",
      " 11  Ca         299 non-null    float64\n",
      " 12  Thal       301 non-null    object \n",
      " 13  AHD        303 non-null    object \n",
      "dtypes: float64(2), int64(9), object(3)\n",
      "memory usage: 33.3+ KB\n",
      "None\n",
      "Các cột trong dữ liệu:\n",
      "Index(['Age', 'Sex', 'ChestPain', 'RestBP', 'Chol', 'Fbs', 'RestECG', 'MaxHR',\n",
      "       'ExAng', 'Oldpeak', 'Slope', 'Ca', 'Thal', 'AHD'],\n",
      "      dtype='object')\n"
     ]
    }
   ],
   "source": [
    "# 1. Đọc dữ liệu từ file CSV\n",
    "data = pd.read_csv('Heart.csv')\n",
    "\n",
    "# Bước 2: Loại bỏ cột không cần thiết\n",
    "data = data.drop(columns=['Unnamed: 0'])\n",
    "\n",
    "# 2. Kiểm tra thông tin dữ liệu và các cột có trong dữ liệu\n",
    "print(\"Thông tin dữ liệu ban đầu:\")\n",
    "print(data.info())\n",
    "print(\"Các cột trong dữ liệu:\")\n",
    "print(data.columns)\n"
   ]
  },
  {
   "cell_type": "code",
   "execution_count": 3,
   "metadata": {},
   "outputs": [
    {
     "name": "stdout",
     "output_type": "stream",
     "text": [
      "Thông tin dữ liệu sau khi xử lý giá trị thiếu:\n",
      "<class 'pandas.core.frame.DataFrame'>\n",
      "RangeIndex: 303 entries, 0 to 302\n",
      "Data columns (total 14 columns):\n",
      " #   Column     Non-Null Count  Dtype  \n",
      "---  ------     --------------  -----  \n",
      " 0   Age        303 non-null    float64\n",
      " 1   Sex        303 non-null    float64\n",
      " 2   ChestPain  303 non-null    object \n",
      " 3   RestBP     303 non-null    float64\n",
      " 4   Chol       303 non-null    float64\n",
      " 5   Fbs        303 non-null    float64\n",
      " 6   RestECG    303 non-null    float64\n",
      " 7   MaxHR      303 non-null    float64\n",
      " 8   ExAng      303 non-null    float64\n",
      " 9   Oldpeak    303 non-null    float64\n",
      " 10  Slope      303 non-null    float64\n",
      " 11  Ca         303 non-null    float64\n",
      " 12  Thal       303 non-null    object \n",
      " 13  AHD        303 non-null    object \n",
      "dtypes: float64(11), object(3)\n",
      "memory usage: 33.3+ KB\n",
      "None\n"
     ]
    }
   ],
   "source": [
    "# 3. Xử lý giá trị thiếu (NA) cho cả dữ liệu số và chuỗi\n",
    "# Tách dữ liệu số và chuỗi\n",
    "num_cols = data.select_dtypes(include=['float64', 'int64']).columns\n",
    "cat_cols = data.select_dtypes(include=['object']).columns\n",
    "\n",
    "# Điền giá trị thiếu cho dữ liệu số (mean) và chuỗi (most_frequent)\n",
    "num_imputer = SimpleImputer(strategy='mean')\n",
    "cat_imputer = SimpleImputer(strategy='most_frequent')\n",
    "\n",
    "data[num_cols] = num_imputer.fit_transform(data[num_cols])\n",
    "data[cat_cols] = cat_imputer.fit_transform(data[cat_cols])\n",
    "\n",
    "# Kiểm tra dữ liệu sau khi điền giá trị thiếu\n",
    "print(\"Thông tin dữ liệu sau khi xử lý giá trị thiếu:\")\n",
    "print(data.info())\n"
   ]
  },
  {
   "cell_type": "code",
   "execution_count": 4,
   "metadata": {},
   "outputs": [
    {
     "name": "stdout",
     "output_type": "stream",
     "text": [
      "Dữ liệu sau khi mã hóa:\n",
      "    Age  Sex  ChestPain  RestBP   Chol  Fbs  RestECG  MaxHR  ExAng  Oldpeak  \\\n",
      "0  63.0  1.0          3   145.0  233.0  1.0      2.0  150.0    0.0      2.3   \n",
      "1  67.0  1.0          0   160.0  286.0  0.0      2.0  108.0    1.0      1.5   \n",
      "2  67.0  1.0          0   120.0  229.0  0.0      2.0  129.0    1.0      2.6   \n",
      "3  37.0  1.0          1   130.0  250.0  0.0      0.0  187.0    0.0      3.5   \n",
      "4  41.0  0.0          2   130.0  204.0  0.0      2.0  172.0    0.0      1.4   \n",
      "\n",
      "   Slope   Ca  Thal  AHD  \n",
      "0    3.0  0.0     0    0  \n",
      "1    2.0  3.0     1    1  \n",
      "2    2.0  2.0     2    1  \n",
      "3    3.0  0.0     1    0  \n",
      "4    1.0  0.0     1    0  \n"
     ]
    }
   ],
   "source": [
    "# 4. Mã hóa các cột chuỗi bằng LabelEncoder\n",
    "label_encoder = LabelEncoder()\n",
    "for col in cat_cols:\n",
    "    data[col] = label_encoder.fit_transform(data[col])\n",
    "\n",
    "# Kiểm tra dữ liệu sau khi mã hóa\n",
    "print(\"Dữ liệu sau khi mã hóa:\")\n",
    "print(data.head())\n",
    "\n",
    "train_data, test_data = train_test_split(data, test_size=0.2, random_state=42, stratify=data['AHD'])\n",
    "\n",
    "# Bước 4: Lưu hai tập dữ liệu ra file CSV\n",
    "train_file_path = 'train_dataset.csv'\n",
    "test_file_path = 'test_dataset.csv'\n",
    "\n",
    "train_data.to_csv(train_file_path, index=False)\n",
    "test_data.to_csv(test_file_path, index=False)\n"
   ]
  }
 ],
 "metadata": {
  "kernelspec": {
   "display_name": "Python 3",
   "language": "python",
   "name": "python3"
  },
  "language_info": {
   "codemirror_mode": {
    "name": "ipython",
    "version": 3
   },
   "file_extension": ".py",
   "mimetype": "text/x-python",
   "name": "python",
   "nbconvert_exporter": "python",
   "pygments_lexer": "ipython3",
   "version": "3.11.4"
  }
 },
 "nbformat": 4,
 "nbformat_minor": 2
}
